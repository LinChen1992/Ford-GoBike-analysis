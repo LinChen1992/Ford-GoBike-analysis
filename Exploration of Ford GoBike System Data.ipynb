{
 "cells": [
  {
   "cell_type": "markdown",
   "metadata": {},
   "source": [
    "# <font color='blue'>A Brief Exploration of Ford GoBike</font>\n",
    "### by Lin Chen"
   ]
  },
  {
   "cell_type": "markdown",
   "metadata": {},
   "source": [
    "## <font color='cornflowerblue'>Preliminary Data Wrangling</font>\n",
    "> This data set includes information about individual rides made in a bike-sharing system covering the greater San Francisco Bay area."
   ]
  },
  {
   "cell_type": "code",
   "execution_count": 2,
   "metadata": {},
   "outputs": [],
   "source": [
    "# loading Python libraries\n",
    "\n",
    "import pandas as pd\n",
    "import numpy as np\n",
    "import matplotlib.pyplot as plt\n",
    "import seaborn as sb\n",
    "from datetime import date\n",
    "import calendar\n",
    "import math\n",
    "\n",
    "%matplotlib inline"
   ]
  },
  {
   "cell_type": "code",
   "execution_count": 3,
   "metadata": {},
   "outputs": [],
   "source": [
    "# gathering data\n",
    "\n",
    "df = pd.read_csv('201902-fordgobike-tripdata.csv')"
   ]
  },
  {
   "cell_type": "code",
   "execution_count": 4,
   "metadata": {},
   "outputs": [
    {
     "data": {
      "text/html": [
       "<div>\n",
       "<style scoped>\n",
       "    .dataframe tbody tr th:only-of-type {\n",
       "        vertical-align: middle;\n",
       "    }\n",
       "\n",
       "    .dataframe tbody tr th {\n",
       "        vertical-align: top;\n",
       "    }\n",
       "\n",
       "    .dataframe thead th {\n",
       "        text-align: right;\n",
       "    }\n",
       "</style>\n",
       "<table border=\"1\" class=\"dataframe\">\n",
       "  <thead>\n",
       "    <tr style=\"text-align: right;\">\n",
       "      <th></th>\n",
       "      <th>duration_sec</th>\n",
       "      <th>start_time</th>\n",
       "      <th>end_time</th>\n",
       "      <th>start_station_id</th>\n",
       "      <th>start_station_name</th>\n",
       "      <th>start_station_latitude</th>\n",
       "      <th>start_station_longitude</th>\n",
       "      <th>end_station_id</th>\n",
       "      <th>end_station_name</th>\n",
       "      <th>end_station_latitude</th>\n",
       "      <th>end_station_longitude</th>\n",
       "      <th>bike_id</th>\n",
       "      <th>user_type</th>\n",
       "      <th>member_birth_year</th>\n",
       "      <th>member_gender</th>\n",
       "      <th>bike_share_for_all_trip</th>\n",
       "    </tr>\n",
       "  </thead>\n",
       "  <tbody>\n",
       "    <tr>\n",
       "      <th>68243</th>\n",
       "      <td>413</td>\n",
       "      <td>2019-02-20 03:57:42.6090</td>\n",
       "      <td>2019-02-20 04:04:35.9590</td>\n",
       "      <td>178.0</td>\n",
       "      <td>Broadway at 30th St</td>\n",
       "      <td>37.819381</td>\n",
       "      <td>-122.261928</td>\n",
       "      <td>182.0</td>\n",
       "      <td>19th Street BART Station</td>\n",
       "      <td>37.809013</td>\n",
       "      <td>-122.268247</td>\n",
       "      <td>2354</td>\n",
       "      <td>Subscriber</td>\n",
       "      <td>1956.0</td>\n",
       "      <td>Male</td>\n",
       "      <td>No</td>\n",
       "    </tr>\n",
       "    <tr>\n",
       "      <th>124929</th>\n",
       "      <td>298</td>\n",
       "      <td>2019-02-11 08:11:14.2480</td>\n",
       "      <td>2019-02-11 08:16:12.3220</td>\n",
       "      <td>26.0</td>\n",
       "      <td>1st St at Folsom St</td>\n",
       "      <td>37.787290</td>\n",
       "      <td>-122.394380</td>\n",
       "      <td>13.0</td>\n",
       "      <td>Commercial St at Montgomery St</td>\n",
       "      <td>37.794231</td>\n",
       "      <td>-122.402923</td>\n",
       "      <td>5418</td>\n",
       "      <td>Subscriber</td>\n",
       "      <td>1989.0</td>\n",
       "      <td>Male</td>\n",
       "      <td>No</td>\n",
       "    </tr>\n",
       "    <tr>\n",
       "      <th>148957</th>\n",
       "      <td>3756</td>\n",
       "      <td>2019-02-06 19:22:07.1380</td>\n",
       "      <td>2019-02-06 20:24:43.4310</td>\n",
       "      <td>182.0</td>\n",
       "      <td>19th Street BART Station</td>\n",
       "      <td>37.809013</td>\n",
       "      <td>-122.268247</td>\n",
       "      <td>202.0</td>\n",
       "      <td>Washington St at 8th St</td>\n",
       "      <td>37.800754</td>\n",
       "      <td>-122.274894</td>\n",
       "      <td>4920</td>\n",
       "      <td>Subscriber</td>\n",
       "      <td>1974.0</td>\n",
       "      <td>Male</td>\n",
       "      <td>Yes</td>\n",
       "    </tr>\n",
       "    <tr>\n",
       "      <th>127337</th>\n",
       "      <td>2578</td>\n",
       "      <td>2019-02-10 15:32:27.9670</td>\n",
       "      <td>2019-02-10 16:15:26.9190</td>\n",
       "      <td>193.0</td>\n",
       "      <td>Grand Ave at Santa Clara Ave</td>\n",
       "      <td>37.812744</td>\n",
       "      <td>-122.247215</td>\n",
       "      <td>205.0</td>\n",
       "      <td>Miles Ave at Cavour St</td>\n",
       "      <td>37.838800</td>\n",
       "      <td>-122.258732</td>\n",
       "      <td>4508</td>\n",
       "      <td>Customer</td>\n",
       "      <td>NaN</td>\n",
       "      <td>NaN</td>\n",
       "      <td>No</td>\n",
       "    </tr>\n",
       "    <tr>\n",
       "      <th>52149</th>\n",
       "      <td>258</td>\n",
       "      <td>2019-02-21 17:31:51.7560</td>\n",
       "      <td>2019-02-21 17:36:10.5900</td>\n",
       "      <td>343.0</td>\n",
       "      <td>Bryant St at 2nd St</td>\n",
       "      <td>37.783172</td>\n",
       "      <td>-122.393572</td>\n",
       "      <td>21.0</td>\n",
       "      <td>Montgomery St BART Station (Market St at 2nd St)</td>\n",
       "      <td>37.789625</td>\n",
       "      <td>-122.400811</td>\n",
       "      <td>6417</td>\n",
       "      <td>Subscriber</td>\n",
       "      <td>1973.0</td>\n",
       "      <td>Male</td>\n",
       "      <td>No</td>\n",
       "    </tr>\n",
       "  </tbody>\n",
       "</table>\n",
       "</div>"
      ],
      "text/plain": [
       "        duration_sec                start_time                  end_time  \\\n",
       "68243            413  2019-02-20 03:57:42.6090  2019-02-20 04:04:35.9590   \n",
       "124929           298  2019-02-11 08:11:14.2480  2019-02-11 08:16:12.3220   \n",
       "148957          3756  2019-02-06 19:22:07.1380  2019-02-06 20:24:43.4310   \n",
       "127337          2578  2019-02-10 15:32:27.9670  2019-02-10 16:15:26.9190   \n",
       "52149            258  2019-02-21 17:31:51.7560  2019-02-21 17:36:10.5900   \n",
       "\n",
       "        start_station_id            start_station_name  \\\n",
       "68243              178.0           Broadway at 30th St   \n",
       "124929              26.0           1st St at Folsom St   \n",
       "148957             182.0      19th Street BART Station   \n",
       "127337             193.0  Grand Ave at Santa Clara Ave   \n",
       "52149              343.0           Bryant St at 2nd St   \n",
       "\n",
       "        start_station_latitude  start_station_longitude  end_station_id  \\\n",
       "68243                37.819381              -122.261928           182.0   \n",
       "124929               37.787290              -122.394380            13.0   \n",
       "148957               37.809013              -122.268247           202.0   \n",
       "127337               37.812744              -122.247215           205.0   \n",
       "52149                37.783172              -122.393572            21.0   \n",
       "\n",
       "                                        end_station_name  \\\n",
       "68243                           19th Street BART Station   \n",
       "124929                    Commercial St at Montgomery St   \n",
       "148957                           Washington St at 8th St   \n",
       "127337                            Miles Ave at Cavour St   \n",
       "52149   Montgomery St BART Station (Market St at 2nd St)   \n",
       "\n",
       "        end_station_latitude  end_station_longitude  bike_id   user_type  \\\n",
       "68243              37.809013            -122.268247     2354  Subscriber   \n",
       "124929             37.794231            -122.402923     5418  Subscriber   \n",
       "148957             37.800754            -122.274894     4920  Subscriber   \n",
       "127337             37.838800            -122.258732     4508    Customer   \n",
       "52149              37.789625            -122.400811     6417  Subscriber   \n",
       "\n",
       "        member_birth_year member_gender bike_share_for_all_trip  \n",
       "68243              1956.0          Male                      No  \n",
       "124929             1989.0          Male                      No  \n",
       "148957             1974.0          Male                     Yes  \n",
       "127337                NaN           NaN                      No  \n",
       "52149              1973.0          Male                      No  "
      ]
     },
     "execution_count": 4,
     "metadata": {},
     "output_type": "execute_result"
    }
   ],
   "source": [
    "# assessing data\n",
    "\n",
    "df.sample(5)"
   ]
  },
  {
   "cell_type": "code",
   "execution_count": 5,
   "metadata": {},
   "outputs": [
    {
     "name": "stdout",
     "output_type": "stream",
     "text": [
      "<class 'pandas.core.frame.DataFrame'>\n",
      "RangeIndex: 183412 entries, 0 to 183411\n",
      "Data columns (total 16 columns):\n",
      " #   Column                   Non-Null Count   Dtype  \n",
      "---  ------                   --------------   -----  \n",
      " 0   duration_sec             183412 non-null  int64  \n",
      " 1   start_time               183412 non-null  object \n",
      " 2   end_time                 183412 non-null  object \n",
      " 3   start_station_id         183215 non-null  float64\n",
      " 4   start_station_name       183215 non-null  object \n",
      " 5   start_station_latitude   183412 non-null  float64\n",
      " 6   start_station_longitude  183412 non-null  float64\n",
      " 7   end_station_id           183215 non-null  float64\n",
      " 8   end_station_name         183215 non-null  object \n",
      " 9   end_station_latitude     183412 non-null  float64\n",
      " 10  end_station_longitude    183412 non-null  float64\n",
      " 11  bike_id                  183412 non-null  int64  \n",
      " 12  user_type                183412 non-null  object \n",
      " 13  member_birth_year        175147 non-null  float64\n",
      " 14  member_gender            175147 non-null  object \n",
      " 15  bike_share_for_all_trip  183412 non-null  object \n",
      "dtypes: float64(7), int64(2), object(7)\n",
      "memory usage: 22.4+ MB\n"
     ]
    }
   ],
   "source": [
    "df.info()"
   ]
  },
  {
   "cell_type": "code",
   "execution_count": 6,
   "metadata": {},
   "outputs": [
    {
     "data": {
      "text/plain": [
       "duration_sec                  0\n",
       "start_time                    0\n",
       "end_time                      0\n",
       "start_station_id            197\n",
       "start_station_name          197\n",
       "start_station_latitude        0\n",
       "start_station_longitude       0\n",
       "end_station_id              197\n",
       "end_station_name            197\n",
       "end_station_latitude          0\n",
       "end_station_longitude         0\n",
       "bike_id                       0\n",
       "user_type                     0\n",
       "member_birth_year          8265\n",
       "member_gender              8265\n",
       "bike_share_for_all_trip       0\n",
       "dtype: int64"
      ]
     },
     "execution_count": 6,
     "metadata": {},
     "output_type": "execute_result"
    }
   ],
   "source": [
    "df.isnull().sum()"
   ]
  },
  {
   "cell_type": "code",
   "execution_count": 7,
   "metadata": {},
   "outputs": [
    {
     "data": {
      "text/plain": [
       "0"
      ]
     },
     "execution_count": 7,
     "metadata": {},
     "output_type": "execute_result"
    }
   ],
   "source": [
    "sum(df.duplicated())"
   ]
  },
  {
   "cell_type": "markdown",
   "metadata": {},
   "source": [
    "#### Data cleaning guides:\n",
    "> Missing Values<br>\n",
    "1. There are 197 missing values for start and end stations' ids and names. However, no missing values for their latitudes and longitudes. Therefore, we could try to find out ids and names by latitudes and longitudes. If it doesn't work, just drop them.<br>\n",
    "2. There are 8265 missing values for member birth year and gender. It's okay not fixing them, but empty values must be NaN for correct calculation of mean, median, etc.<br>\n",
    "\n",
    "> Wrong Datatypes<br>\n",
    "1. All id values shall be under datatype of strings, since they are not numeric values.<br>\n",
    "2. Member birth year shall be under datatype of integer, not strings.\n",
    "3. Start and end time shall be under datatype of datetime, not strings, and duration shall be calculated by them to ensure precision."
   ]
  },
  {
   "cell_type": "code",
   "execution_count": 8,
   "metadata": {},
   "outputs": [],
   "source": [
    "# cleaning data\n",
    "\n",
    "df_clean = df.copy()"
   ]
  },
  {
   "cell_type": "code",
   "execution_count": 9,
   "metadata": {},
   "outputs": [
    {
     "data": {
      "text/html": [
       "<div>\n",
       "<style scoped>\n",
       "    .dataframe tbody tr th:only-of-type {\n",
       "        vertical-align: middle;\n",
       "    }\n",
       "\n",
       "    .dataframe tbody tr th {\n",
       "        vertical-align: top;\n",
       "    }\n",
       "\n",
       "    .dataframe thead th {\n",
       "        text-align: right;\n",
       "    }\n",
       "</style>\n",
       "<table border=\"1\" class=\"dataframe\">\n",
       "  <thead>\n",
       "    <tr style=\"text-align: right;\">\n",
       "      <th></th>\n",
       "      <th>duration_sec</th>\n",
       "      <th>start_time</th>\n",
       "      <th>end_time</th>\n",
       "      <th>start_station_id</th>\n",
       "      <th>start_station_name</th>\n",
       "      <th>start_station_latitude</th>\n",
       "      <th>start_station_longitude</th>\n",
       "      <th>end_station_id</th>\n",
       "      <th>end_station_name</th>\n",
       "      <th>end_station_latitude</th>\n",
       "      <th>end_station_longitude</th>\n",
       "      <th>bike_id</th>\n",
       "      <th>user_type</th>\n",
       "      <th>member_birth_year</th>\n",
       "      <th>member_gender</th>\n",
       "      <th>bike_share_for_all_trip</th>\n",
       "    </tr>\n",
       "  </thead>\n",
       "  <tbody>\n",
       "    <tr>\n",
       "      <th>475</th>\n",
       "      <td>1709</td>\n",
       "      <td>2019-02-28 20:55:53.9320</td>\n",
       "      <td>2019-02-28 21:24:23.7380</td>\n",
       "      <td>NaN</td>\n",
       "      <td>NaN</td>\n",
       "      <td>37.40</td>\n",
       "      <td>-121.94</td>\n",
       "      <td>NaN</td>\n",
       "      <td>NaN</td>\n",
       "      <td>37.40</td>\n",
       "      <td>-121.93</td>\n",
       "      <td>4211</td>\n",
       "      <td>Customer</td>\n",
       "      <td>1991.0</td>\n",
       "      <td>Female</td>\n",
       "      <td>No</td>\n",
       "    </tr>\n",
       "    <tr>\n",
       "      <th>1733</th>\n",
       "      <td>1272</td>\n",
       "      <td>2019-02-28 18:32:34.2730</td>\n",
       "      <td>2019-02-28 18:53:46.7270</td>\n",
       "      <td>NaN</td>\n",
       "      <td>NaN</td>\n",
       "      <td>37.40</td>\n",
       "      <td>-121.94</td>\n",
       "      <td>NaN</td>\n",
       "      <td>NaN</td>\n",
       "      <td>37.41</td>\n",
       "      <td>-121.96</td>\n",
       "      <td>4174</td>\n",
       "      <td>Subscriber</td>\n",
       "      <td>1980.0</td>\n",
       "      <td>Male</td>\n",
       "      <td>No</td>\n",
       "    </tr>\n",
       "    <tr>\n",
       "      <th>3625</th>\n",
       "      <td>142</td>\n",
       "      <td>2019-02-28 17:10:46.5290</td>\n",
       "      <td>2019-02-28 17:13:09.4310</td>\n",
       "      <td>NaN</td>\n",
       "      <td>NaN</td>\n",
       "      <td>37.41</td>\n",
       "      <td>-121.95</td>\n",
       "      <td>NaN</td>\n",
       "      <td>NaN</td>\n",
       "      <td>37.41</td>\n",
       "      <td>-121.96</td>\n",
       "      <td>4283</td>\n",
       "      <td>Subscriber</td>\n",
       "      <td>1988.0</td>\n",
       "      <td>Male</td>\n",
       "      <td>No</td>\n",
       "    </tr>\n",
       "    <tr>\n",
       "      <th>4070</th>\n",
       "      <td>585</td>\n",
       "      <td>2019-02-28 16:28:45.9340</td>\n",
       "      <td>2019-02-28 16:38:31.3320</td>\n",
       "      <td>NaN</td>\n",
       "      <td>NaN</td>\n",
       "      <td>37.39</td>\n",
       "      <td>-121.93</td>\n",
       "      <td>NaN</td>\n",
       "      <td>NaN</td>\n",
       "      <td>37.40</td>\n",
       "      <td>-121.92</td>\n",
       "      <td>4089</td>\n",
       "      <td>Subscriber</td>\n",
       "      <td>1984.0</td>\n",
       "      <td>Male</td>\n",
       "      <td>Yes</td>\n",
       "    </tr>\n",
       "    <tr>\n",
       "      <th>5654</th>\n",
       "      <td>509</td>\n",
       "      <td>2019-02-28 12:30:17.1310</td>\n",
       "      <td>2019-02-28 12:38:46.3290</td>\n",
       "      <td>NaN</td>\n",
       "      <td>NaN</td>\n",
       "      <td>37.40</td>\n",
       "      <td>-121.92</td>\n",
       "      <td>NaN</td>\n",
       "      <td>NaN</td>\n",
       "      <td>37.39</td>\n",
       "      <td>-121.93</td>\n",
       "      <td>4089</td>\n",
       "      <td>Subscriber</td>\n",
       "      <td>1984.0</td>\n",
       "      <td>Male</td>\n",
       "      <td>Yes</td>\n",
       "    </tr>\n",
       "  </tbody>\n",
       "</table>\n",
       "</div>"
      ],
      "text/plain": [
       "      duration_sec                start_time                  end_time  \\\n",
       "475           1709  2019-02-28 20:55:53.9320  2019-02-28 21:24:23.7380   \n",
       "1733          1272  2019-02-28 18:32:34.2730  2019-02-28 18:53:46.7270   \n",
       "3625           142  2019-02-28 17:10:46.5290  2019-02-28 17:13:09.4310   \n",
       "4070           585  2019-02-28 16:28:45.9340  2019-02-28 16:38:31.3320   \n",
       "5654           509  2019-02-28 12:30:17.1310  2019-02-28 12:38:46.3290   \n",
       "\n",
       "      start_station_id start_station_name  start_station_latitude  \\\n",
       "475                NaN                NaN                   37.40   \n",
       "1733               NaN                NaN                   37.40   \n",
       "3625               NaN                NaN                   37.41   \n",
       "4070               NaN                NaN                   37.39   \n",
       "5654               NaN                NaN                   37.40   \n",
       "\n",
       "      start_station_longitude  end_station_id end_station_name  \\\n",
       "475                   -121.94             NaN              NaN   \n",
       "1733                  -121.94             NaN              NaN   \n",
       "3625                  -121.95             NaN              NaN   \n",
       "4070                  -121.93             NaN              NaN   \n",
       "5654                  -121.92             NaN              NaN   \n",
       "\n",
       "      end_station_latitude  end_station_longitude  bike_id   user_type  \\\n",
       "475                  37.40                -121.93     4211    Customer   \n",
       "1733                 37.41                -121.96     4174  Subscriber   \n",
       "3625                 37.41                -121.96     4283  Subscriber   \n",
       "4070                 37.40                -121.92     4089  Subscriber   \n",
       "5654                 37.39                -121.93     4089  Subscriber   \n",
       "\n",
       "      member_birth_year member_gender bike_share_for_all_trip  \n",
       "475              1991.0        Female                      No  \n",
       "1733             1980.0          Male                      No  \n",
       "3625             1988.0          Male                      No  \n",
       "4070             1984.0          Male                     Yes  \n",
       "5654             1984.0          Male                     Yes  "
      ]
     },
     "execution_count": 9,
     "metadata": {},
     "output_type": "execute_result"
    }
   ],
   "source": [
    "# for rows with missing station id/name values, their latitude and longitude values only have 2 decimal places\n",
    "\n",
    "df_clean.query(\"start_station_id == 'NaN'\").head()"
   ]
  },
  {
   "cell_type": "code",
   "execution_count": 10,
   "metadata": {},
   "outputs": [
    {
     "data": {
      "text/plain": [
       "duration_sec                  0\n",
       "start_time                    0\n",
       "end_time                      0\n",
       "start_station_id              0\n",
       "start_station_name            0\n",
       "start_station_latitude        0\n",
       "start_station_longitude       0\n",
       "end_station_id                0\n",
       "end_station_name              0\n",
       "end_station_latitude          0\n",
       "end_station_longitude         0\n",
       "bike_id                       0\n",
       "user_type                     0\n",
       "member_birth_year          8263\n",
       "member_gender              8263\n",
       "bike_share_for_all_trip       0\n",
       "dtype: int64"
      ]
     },
     "execution_count": 10,
     "metadata": {},
     "output_type": "execute_result"
    }
   ],
   "source": [
    "df_missid = df_clean.query(\"start_station_id == 'NaN'\") # take 197 rows with missing station id/name out\n",
    "df_clean.drop(df_missid.index, axis=0, inplace=True) # set rest rows without missing station id/name separately\n",
    "df_clean.isnull().sum()"
   ]
  },
  {
   "cell_type": "code",
   "execution_count": 11,
   "metadata": {},
   "outputs": [
    {
     "data": {
      "text/plain": [
       "count    1.018000e+03\n",
       "mean    -1.223991e+02\n",
       "std      3.127925e-13\n",
       "min     -1.223991e+02\n",
       "25%     -1.223991e+02\n",
       "50%     -1.223991e+02\n",
       "75%     -1.223991e+02\n",
       "max     -1.223991e+02\n",
       "Name: start_station_longitude, dtype: float64"
      ]
     },
     "execution_count": 11,
     "metadata": {},
     "output_type": "execute_result"
    }
   ],
   "source": [
    "# for a certain station, by using its latitude, we shall get its longitude with tiny standard deviation\n",
    "\n",
    "df_clean.query(\"start_station_latitude == '37.791300'\")['start_station_longitude'].describe()"
   ]
  },
  {
   "cell_type": "code",
   "execution_count": 12,
   "metadata": {},
   "outputs": [
    {
     "data": {
      "text/plain": [
       "start_station_id  start_station_name                             \n",
       "20.0              Mechanics Monument Plaza (Market St at Bush St)    1018\n",
       "dtype: int64"
      ]
     },
     "execution_count": 12,
     "metadata": {},
     "output_type": "execute_result"
    }
   ],
   "source": [
    "# for a certain station, by using its latitude, we shall get station id/name very precisely\n",
    "\n",
    "df_clean.query(\"start_station_latitude == '37.791300'\")[['start_station_id', 'start_station_name']].value_counts()"
   ]
  },
  {
   "cell_type": "code",
   "execution_count": 13,
   "metadata": {},
   "outputs": [
    {
     "data": {
      "text/plain": [
       "count     63.000000\n",
       "mean    -121.932063\n",
       "std        0.006758\n",
       "min     -121.940000\n",
       "25%     -121.940000\n",
       "50%     -121.930000\n",
       "75%     -121.930000\n",
       "max     -121.920000\n",
       "Name: start_station_longitude, dtype: float64"
      ]
     },
     "execution_count": 13,
     "metadata": {},
     "output_type": "execute_result"
    }
   ],
   "source": [
    "# however, when using data from df_missid, with certain latitude value, corresponding longitude values have much larger standard deviation\n",
    "\n",
    "df_missid.query(\"start_station_latitude == '37.40'\")['start_station_longitude'].describe()"
   ]
  },
  {
   "cell_type": "markdown",
   "metadata": {},
   "source": [
    "#### conclusion for missing values: \n",
    "1. for those data rows with missing station id/name values, by using certain latitude value, the standard deviation of longitude values could be around 0.007, which could result in around 1.2 km error on the map, which is not acceptable for our research. <font color='red'>All these data rows shall be dropped.</font>\n",
    "2. missing values for birth year and gender are recorded as null values rather than numeric or string values, so it is fine for us to carry out analysis."
   ]
  },
  {
   "cell_type": "code",
   "execution_count": 14,
   "metadata": {},
   "outputs": [],
   "source": [
    "# change datatypes of start and end time\n",
    "\n",
    "df_clean['start_time'] = pd.to_datetime(df_clean['start_time'])\n",
    "df_clean['end_time'] = pd.to_datetime(df_clean['end_time'])\n",
    "df_clean['duration_sec'] = (df_clean['end_time'] - df_clean['start_time']).dt.total_seconds() # re-calculate column duration_sec"
   ]
  },
  {
   "cell_type": "code",
   "execution_count": 15,
   "metadata": {},
   "outputs": [],
   "source": [
    "# change datatypes of all id values\n",
    "\n",
    "for i in ['start_station_id', 'end_station_id', 'bike_id']:\n",
    "    try:\n",
    "        df_clean[i] = df_clean[i].astype(int).astype(str) # for start/end station id, turn to integer then string\n",
    "    except:\n",
    "        df_clean[i] = df_clean[i].astype(str) # for bike id, directly turn to string"
   ]
  },
  {
   "cell_type": "code",
   "execution_count": 16,
   "metadata": {},
   "outputs": [],
   "source": [
    "arr = pd.array(df_clean.member_birth_year, dtype=pd.Int64Dtype())\n",
    "df_clean.member_birth_year = arr"
   ]
  },
  {
   "cell_type": "code",
   "execution_count": 17,
   "metadata": {},
   "outputs": [],
   "source": [
    "df_clean = df_clean.reset_index(); # remember to reset index"
   ]
  },
  {
   "cell_type": "code",
   "execution_count": 18,
   "metadata": {},
   "outputs": [
    {
     "name": "stdout",
     "output_type": "stream",
     "text": [
      "<class 'pandas.core.frame.DataFrame'>\n",
      "RangeIndex: 183215 entries, 0 to 183214\n",
      "Data columns (total 17 columns):\n",
      " #   Column                   Non-Null Count   Dtype         \n",
      "---  ------                   --------------   -----         \n",
      " 0   index                    183215 non-null  int64         \n",
      " 1   duration_sec             183215 non-null  float64       \n",
      " 2   start_time               183215 non-null  datetime64[ns]\n",
      " 3   end_time                 183215 non-null  datetime64[ns]\n",
      " 4   start_station_id         183215 non-null  object        \n",
      " 5   start_station_name       183215 non-null  object        \n",
      " 6   start_station_latitude   183215 non-null  float64       \n",
      " 7   start_station_longitude  183215 non-null  float64       \n",
      " 8   end_station_id           183215 non-null  object        \n",
      " 9   end_station_name         183215 non-null  object        \n",
      " 10  end_station_latitude     183215 non-null  float64       \n",
      " 11  end_station_longitude    183215 non-null  float64       \n",
      " 12  bike_id                  183215 non-null  object        \n",
      " 13  user_type                183215 non-null  object        \n",
      " 14  member_birth_year        174952 non-null  Int64         \n",
      " 15  member_gender            174952 non-null  object        \n",
      " 16  bike_share_for_all_trip  183215 non-null  object        \n",
      "dtypes: Int64(1), datetime64[ns](2), float64(5), int64(1), object(8)\n",
      "memory usage: 23.9+ MB\n"
     ]
    }
   ],
   "source": [
    "# double-check\n",
    "\n",
    "df_clean.info()"
   ]
  },
  {
   "cell_type": "markdown",
   "metadata": {},
   "source": [
    "#### conclusion for wrong datatypes: \n",
    "1. all columns are now transferred into correct datatypes."
   ]
  },
  {
   "cell_type": "markdown",
   "metadata": {},
   "source": [
    "### *What is the structure of your dataset?*\n",
    "\n",
    "> Each row represents a single bikeride, which is described by multiple attributes represented by columns, such as start/end time, station and corresponding user/bike information.\n",
    "\n",
    "### *What is/are the main feature(s) of interest in your dataset?*\n",
    "\n",
    "> 1. What is the average duration for a ride? What are peak and off-peak hours? Any seasonality for those values?\n",
    "2. Which station is most and least popular as destination? What about those features for start place?\n",
    "3. Gender and age map for bike users, and their preferences in terms of duration and station.\n",
    "4. Influence taken by user types and share/unshare to the bikeride.\n",
    "5. Description on top 5 frequent users and top 5 longest ride (time).\n",
    "\n",
    "### *What features in the dataset do you think will help support your investigation into your feature(s) of interest?*\n",
    "\n",
    "> 1. duration_sec, start_time and end_time\n",
    "2. start_station (id/name), end_station (id/name)\n",
    "3. member_birth_year, member_gender\n",
    "4. user_type, bike_share_for_all_trip\n",
    "5. all data above"
   ]
  },
  {
   "cell_type": "markdown",
   "metadata": {},
   "source": [
    "## <font color='cornflowerblue'>Univariate Exploration</font>\n",
    "\n",
    "**Question:** What does the total distribution of biking duration looks like?"
   ]
  },
  {
   "cell_type": "code",
   "execution_count": 23,
   "metadata": {},
   "outputs": [
    {
     "data": {
      "image/png": "[encoded data removed]",
      "text/plain": [
       "<Figure size 432x288 with 1 Axes>"
      ]
     },
     "metadata": {
      "needs_background": "light"
     },
     "output_type": "display_data"
    }
   ],
   "source": [
    "plt.hist(data = df_clean, x = 'duration_sec', bins=200);\n",
    "plt.xlabel('Duration (s)');\n",
    "plt.ylabel('Frequency');\n",
    "plt.title('Distribution of Biking Durations');\n",
    "\n",
    "# the distribution of bike ride durations is severely right-skewed"
   ]
  },
  {
   "cell_type": "markdown",
   "metadata": {},
   "source": [
    "**Observation:** Looks like that there are many very long biking activities, though most people only ride bike for a few minutes."
   ]
  },
  {
   "cell_type": "code",
   "execution_count": 47,
   "metadata": {},
   "outputs": [
    {
     "data": {
      "text/plain": [
       "count    183215.000000\n",
       "mean        726.401111\n",
       "std        1795.077832\n",
       "min          61.081000\n",
       "25%         325.412500\n",
       "50%         514.489000\n",
       "75%         796.148500\n",
       "max       85444.830000\n",
       "Name: duration_sec, dtype: float64"
      ]
     },
     "execution_count": 47,
     "metadata": {},
     "output_type": "execute_result"
    }
   ],
   "source": [
    "df_clean.duration_sec.describe() # there are some extra-large values"
   ]
  },
  {
   "cell_type": "code",
   "execution_count": 112,
   "metadata": {},
   "outputs": [
    {
     "name": "stdout",
     "output_type": "stream",
     "text": [
      "Bike tours longer than 16 hr: 0.03 %\n",
      "Bike tours longer than 4 hr: 0.16 %\n",
      "Bike tours longer than 1 hr: 0.93 %\n",
      "Bike tours longer than 30 min: 3.69 %\n"
     ]
    }
   ],
   "source": [
    "total = df_clean.shape[0]\n",
    "print('Bike tours longer than 16 hr:', round(df_clean.query(\"duration_sec>57600\").shape[0]/total*100, 2), '%')\n",
    "print('Bike tours longer than 4 hr:', round(df_clean.query(\"duration_sec>14400\").shape[0]/total*100, 2), '%')\n",
    "print('Bike tours longer than 1 hr:', round(df_clean.query(\"duration_sec>3600\").shape[0]/total*100, 2), '%')\n",
    "print('Bike tours longer than 30 min:', round(df_clean.query(\"duration_sec>1800\").shape[0]/total*100, 2), '%')\n",
    "\n",
    "# Therefore we shall use log10 for x-axis "
   ]
  },
  {
   "cell_type": "code",
   "execution_count": 49,
   "metadata": {},
   "outputs": [
    {
     "data": {
      "text/plain": [
       "count    5.262961\n",
       "mean     2.861176\n",
       "std      3.254083\n",
       "min      1.785906\n",
       "25%      2.512434\n",
       "50%      2.711376\n",
       "75%      2.900994\n",
       "max      4.931686\n",
       "Name: duration_sec, dtype: float64"
      ]
     },
     "execution_count": 49,
     "metadata": {},
     "output_type": "execute_result"
    }
   ],
   "source": [
    "# set bin size and plot histogram\n",
    "\n",
    "np.log10(df_clean.duration_sec.describe())"
   ]
  },
  {
   "cell_type": "markdown",
   "metadata": {},
   "source": [
    "**Question:** Can we take a close look over the biking duration distribution with a logarithmic scale axis?"
   ]
  },
  {
   "cell_type": "code",
   "execution_count": 24,
   "metadata": {},
   "outputs": [
    {
     "data": {
      "image/png": "[encoded data removed]",
      "text/plain": [
       "<Figure size 576x288 with 1 Axes>"
      ]
     },
     "metadata": {
      "needs_background": "light"
     },
     "output_type": "display_data"
    }
   ],
   "source": [
    "bins = 10**np.arange(1.5, 5, 0.05)\n",
    "plt.figure(figsize=(8, 4));\n",
    "plt.hist(data = df_clean, x = 'duration_sec', bins=bins);\n",
    "plt.xscale('log')\n",
    "ticks = [100, 200, 500, 1000, 2000, 5000, 10000, 20000, 50000]\n",
    "labels = ['{}'.format(h) for h in ticks]\n",
    "plt.xticks(ticks, labels);\n",
    "plt.axvline(480, color='r');\n",
    "plt.axvline(600, color='r'); # most bike ride durations falls into 8 to 10 minutes\n",
    "plt.xlabel('Duration (s)');\n",
    "plt.ylabel('Frequency');\n",
    "plt.title('Distribution of Biking Durations');"
   ]
  },
  {
   "cell_type": "markdown",
   "metadata": {},
   "source": [
    "**Observation:** It is true that some people ride bike for more than 12 hours, but most people rike bike from 8 to 10 minutes (the range inside two red lines)."
   ]
  },
  {
   "cell_type": "code",
   "execution_count": 27,
   "metadata": {},
   "outputs": [],
   "source": [
    "# split the start/end time into date and time in a day\n",
    "\n",
    "df_clean['start_date'] = [d.date() for d in df_clean['start_time']]\n",
    "df_clean['start_hour'] = [d.time() for d in df_clean['start_time']]\n",
    "df_clean['end_date'] = [d.date() for d in df_clean['end_time']]\n",
    "df_clean['end_hour'] = [d.time() for d in df_clean['end_time']]"
   ]
  },
  {
   "cell_type": "markdown",
   "metadata": {},
   "source": [
    "**Question:** Which day does people ride bikes more often?"
   ]
  },
  {
   "cell_type": "code",
   "execution_count": 28,
   "metadata": {},
   "outputs": [
    {
     "data": {
      "image/png": "[encoded data removed]",
      "text/plain": [
       "<Figure size 1440x432 with 2 Axes>"
      ]
     },
     "metadata": {
      "needs_background": "light"
     },
     "output_type": "display_data"
    }
   ],
   "source": [
    "base_color = sb.color_palette()[0]\n",
    "plt.figure(figsize=(20, 6));\n",
    "plt.subplot(1, 2, 1) \n",
    "sb.countplot(data=df_clean, y='start_date', color=base_color);\n",
    "plt.title('Frequency of starting a biking event');\n",
    "plt.subplot(1, 2, 2) \n",
    "sb.countplot(data=df_clean, y='end_date', color=base_color); # 2 plots are almost identical, but in end_date we can find 2019-03-01\n",
    "plt.title('Frequency of ending a biking event');\n",
    "\n",
    "# 1. must be someone who turned bike the second day\n",
    "# 2. there might be weekdays/weekends difference for bike ride frequency"
   ]
  },
  {
   "cell_type": "markdown",
   "metadata": {},
   "source": [
    "**Observation:** Cannot easily see a trend here, but there is clear difference between days. Maybe should break those days into 7 days in a week, like Monday, Tuesday..."
   ]
  },
  {
   "cell_type": "code",
   "execution_count": 53,
   "metadata": {
    "scrolled": true
   },
   "outputs": [
    {
     "data": {
      "text/plain": [
       "0     2019-02-28\n",
       "1     2019-02-28\n",
       "2     2019-02-28\n",
       "3     2019-02-28\n",
       "4     2019-02-28\n",
       "5     2019-02-28\n",
       "6     2019-02-28\n",
       "7     2019-02-28\n",
       "8     2019-02-28\n",
       "9     2019-02-28\n",
       "10    2019-02-28\n",
       "11    2019-02-28\n",
       "12    2019-02-28\n",
       "13    2019-02-28\n",
       "14    2019-02-28\n",
       "15    2019-02-28\n",
       "Name: start_date, dtype: object"
      ]
     },
     "execution_count": 53,
     "metadata": {},
     "output_type": "execute_result"
    }
   ],
   "source": [
    "datemax = df_clean.end_date.max()\n",
    "df_clean[df_clean.end_date == datemax].start_date\n",
    "\n",
    "# everyone turned back bikes on 2019-03-01 all started to use one day before"
   ]
  },
  {
   "cell_type": "markdown",
   "metadata": {},
   "source": [
    "**Question:** This time we can try to break those days into 7 days in a week, to see the trend, do people prefer weekdays or weekends?"
   ]
  },
  {
   "cell_type": "code",
   "execution_count": 30,
   "metadata": {},
   "outputs": [
    {
     "data": {
      "image/png": "[encoded data removed]",
      "text/plain": [
       "<Figure size 432x288 with 1 Axes>"
      ]
     },
     "metadata": {
      "needs_background": "light"
     },
     "output_type": "display_data"
    }
   ],
   "source": [
    "sd = []\n",
    "for i in df_clean.start_time:\n",
    "    sd.append(i.isoweekday())\n",
    "plt.hist(sd, bins=np.arange(9)-0.5, rwidth = 0.7);\n",
    "plt.xlim((0.5,7.5));\n",
    "\n",
    "df_clean['start_day'] = sd\n",
    "\n",
    "plt.xlabel('Days in a week, from Monday to Sunday');\n",
    "plt.ylabel('Frequency');\n",
    "plt.title('Distribution of days in a week for biking');\n",
    "\n",
    "# clearly we can see that the peak day for bike ride is Thursday, and off-peak days are weekends"
   ]
  },
  {
   "cell_type": "markdown",
   "metadata": {},
   "source": [
    "**Observation:** Clearly more bike tours happened in weekdays than weekends, maybe due to school and work. Thursday is most popular. In Feb 2019 we have 28 days and 4 days for each category, so it's fair to compare without weighted averaging."
   ]
  },
  {
   "cell_type": "code",
   "execution_count": 32,
   "metadata": {},
   "outputs": [],
   "source": [
    "df_weekend = df_clean.query(\"start_day == [6, 7]\")\n",
    "df_weekday = df_clean.query(\"start_day != [6, 7]\")"
   ]
  },
  {
   "cell_type": "markdown",
   "metadata": {},
   "source": [
    "**Question:** Which time in a day people would like to ride bike? Is there any difference between weekday and weekends?"
   ]
  },
  {
   "cell_type": "code",
   "execution_count": 35,
   "metadata": {},
   "outputs": [
    {
     "data": {
      "image/png": "[encoded data removed]",
      "text/plain": [
       "<Figure size 1080x288 with 2 Axes>"
      ]
     },
     "metadata": {
      "needs_background": "light"
     },
     "output_type": "display_data"
    }
   ],
   "source": [
    "plt.figure(figsize=(15, 4));\n",
    "plt.subplot(1, 2, 1) \n",
    "sh = []\n",
    "for i in df_weekday.start_time: # for weekday\n",
    "    sh.append(i.hour)\n",
    "plt.hist(sh, bins=np.arange(24)-0.5, rwidth = 0.7);\n",
    "ticks = np.arange(24)\n",
    "labels = ['{}'.format(h) for h in ticks]\n",
    "plt.xticks(ticks, labels);\n",
    "plt.xlabel('Hours');\n",
    "plt.ylabel('Frequency');\n",
    "plt.title('Weekdays, distribution of biking tour start time by hours');\n",
    "\n",
    "plt.subplot(1, 2, 2) \n",
    "sh = []\n",
    "for i in df_weekend.start_time: # for weekend\n",
    "    sh.append(i.hour)\n",
    "plt.hist(sh, bins=np.arange(24)-0.5, rwidth = 0.7);\n",
    "ticks = np.arange(24)\n",
    "labels = ['{}'.format(h) for h in ticks]\n",
    "plt.xticks(ticks, labels);\n",
    "plt.xlabel('Hours');\n",
    "plt.ylabel('Frequency');\n",
    "plt.title('Weekends, distribution of biking tour start time by hours');\n",
    "\n",
    "# on weekdays: peak hour are 8 AM and 17 PM respectively, associated with working hours\n",
    "# on weekends: peak hour is 1 PM, after lunch time"
   ]
  },
  {
   "cell_type": "markdown",
   "metadata": {},
   "source": [
    "**Observation:** During weekdays, peak hours for riding bike is same to rush hours for people to go to work and go back home. During weekends, peak hours is the time after lunch, maybe because it's warm at the coldest month in a year."
   ]
  },
  {
   "cell_type": "code",
   "execution_count": 36,
   "metadata": {},
   "outputs": [
    {
     "name": "stdout",
     "output_type": "stream",
     "text": [
      "turn the bike at same day: 99.83 % turn at next day: 0.17 %\n"
     ]
    }
   ],
   "source": [
    "total = df_clean.shape[0]\n",
    "turn_sameday = 0\n",
    "turn_nextday = 0 # cannot turn bike the third day, since the maximum bike rike < 24 hours\n",
    "for i in range(df_clean.shape[0]):\n",
    "    if df_clean['start_date'][i] == df_clean['end_date'][i]:\n",
    "        turn_sameday = turn_sameday + 1\n",
    "    else:\n",
    "        turn_nextday = turn_nextday + 1\n",
    "print('turn the bike at same day:', round(turn_sameday/total*100, 2), '%', 'turn at next day:', round(turn_nextday/total*100, 2), '%')\n",
    "\n",
    "# only 0.17% bike rides associated to second-day bike return"
   ]
  },
  {
   "cell_type": "markdown",
   "metadata": {},
   "source": [
    "**Question:** Which stations are most popular for starting points and destinations?"
   ]
  },
  {
   "cell_type": "code",
   "execution_count": 37,
   "metadata": {},
   "outputs": [
    {
     "name": "stdout",
     "output_type": "stream",
     "text": [
      "Station 58: Market St at 10th St\n",
      "Station 67: San Francisco Caltrain Station 2  (Townsend St at 4th St)\n"
     ]
    },
    {
     "data": {
      "image/png": "[encoded data removed]",
      "text/plain": [
       "<Figure size 1080x288 with 2 Axes>"
      ]
     },
     "metadata": {
      "needs_background": "light"
     },
     "output_type": "display_data"
    }
   ],
   "source": [
    "plt.figure(figsize=(15, 4));\n",
    "plt.subplot(1, 2, 1)\n",
    "order1 = df_clean['start_station_id'].value_counts().index[:10]\n",
    "sb.countplot(data = df_clean, x = 'start_station_id', order=order1, color=base_color);\n",
    "plt.title('top 10 popular stations to start a bike tour');\n",
    "\n",
    "plt.subplot(1, 2, 2)\n",
    "order2 = df_clean['end_station_id'].value_counts().index[:10]\n",
    "sb.countplot(data = df_clean, x = 'end_station_id', order=order2, color=base_color);\n",
    "plt.title('top 10 popular stations to end a bike tour');\n",
    "\n",
    "# top 2 stations for popularity is 58, 67, for both departures and arrivals\n",
    "print('Station 58:', df_clean[df_clean['start_station_id']=='58']['start_station_name'].iloc[0])\n",
    "print('Station 67:', df_clean[df_clean['start_station_id']=='67']['start_station_name'].iloc[0])"
   ]
  },
  {
   "cell_type": "markdown",
   "metadata": {},
   "source": [
    "**Observation:** Looks that station No.58 and 67 are most popular, both for start and end."
   ]
  },
  {
   "cell_type": "markdown",
   "metadata": {},
   "source": [
    "**Question:** Percentages for GoBike users' different attributes?"
   ]
  },
  {
   "cell_type": "code",
   "execution_count": 38,
   "metadata": {},
   "outputs": [
    {
     "data": {
      "image/png": "[encoded data removed]",
      "text/plain": [
       "<Figure size 1152x288 with 3 Axes>"
      ]
     },
     "metadata": {},
     "output_type": "display_data"
    }
   ],
   "source": [
    "plt.figure(figsize=(16, 4));\n",
    "\n",
    "plt.subplot(1, 3, 1)\n",
    "user_count = df_clean.user_type.value_counts()\n",
    "plt.pie(user_count, labels=user_count.index, autopct='%.2f');\n",
    "plt.title('Percentage of user type');\n",
    "\n",
    "plt.subplot(1, 3, 2)\n",
    "gender_count = df_clean.member_gender.value_counts()\n",
    "plt.pie(gender_count, labels=gender_count.index, autopct='%.2f');\n",
    "plt.title('Percentage of gender');\n",
    "\n",
    "plt.subplot(1, 3, 3)\n",
    "share_count = df_clean.bike_share_for_all_trip.value_counts()\n",
    "plt.pie(share_count, labels=share_count.index, autopct='%.2f');\n",
    "plt.title('Percentage of bike share');"
   ]
  },
  {
   "cell_type": "markdown",
   "metadata": {},
   "source": [
    "**Observation:** Majority of users are subscribers, male and don't share bike during the tour. Maybe because subscribers cannot share the bike."
   ]
  },
  {
   "cell_type": "code",
   "execution_count": 60,
   "metadata": {},
   "outputs": [
    {
     "data": {
      "text/plain": [
       "count    174952.000000\n",
       "mean       1984.803135\n",
       "std          10.118731\n",
       "min        1878.000000\n",
       "25%        1980.000000\n",
       "50%        1987.000000\n",
       "75%        1992.000000\n",
       "max        2001.000000\n",
       "Name: member_birth_year, dtype: float64"
      ]
     },
     "execution_count": 60,
     "metadata": {},
     "output_type": "execute_result"
    }
   ],
   "source": [
    "df_clean['member_birth_year'].describe()\n",
    "\n",
    "# the birth_year of 1878 doesn't make much sense"
   ]
  },
  {
   "cell_type": "code",
   "execution_count": 61,
   "metadata": {},
   "outputs": [
    {
     "data": {
      "text/plain": [
       "1878     1\n",
       "1900    53\n",
       "1901     6\n",
       "1902    11\n",
       "1910     1\n",
       "1920     3\n",
       "1927     1\n",
       "1928     1\n",
       "Name: member_birth_year, dtype: Int64"
      ]
     },
     "execution_count": 61,
     "metadata": {},
     "output_type": "execute_result"
    }
   ],
   "source": [
    "df_clean[df_clean['member_birth_year']<=1929].member_birth_year.value_counts().sort_index()\n",
    "\n",
    "# we shall start from 1930 (89 years old in 2001), older ages might be wrong data"
   ]
  },
  {
   "cell_type": "markdown",
   "metadata": {},
   "source": [
    "**Question:** What about the distribution for age of users?"
   ]
  },
  {
   "cell_type": "code",
   "execution_count": 40,
   "metadata": {},
   "outputs": [
    {
     "data": {
      "image/png": "[encoded data removed]",
      "text/plain": [
       "<Figure size 720x432 with 1 Axes>"
      ]
     },
     "metadata": {
      "needs_background": "light"
     },
     "output_type": "display_data"
    }
   ],
   "source": [
    "plt.figure(figsize=(10, 6));\n",
    "bins = np.arange(1930, 2011, 5)\n",
    "birth_year = df_clean['member_birth_year'].dropna()\n",
    "plt.hist(birth_year, bins=bins, color=base_color, alpha=0.5, ec='black');\n",
    "ticks = np.arange(1930, 2011, 5)\n",
    "labels = ['{}'.format(h) for h in ticks]\n",
    "plt.xticks(ticks, labels);\n",
    "plt.xlabel('year of birth');\n",
    "plt.ylabel('frequency');\n",
    "plt.title('Distribution of birth year for users');\n",
    "\n",
    "# most users are born between 1985 and 1995"
   ]
  },
  {
   "cell_type": "markdown",
   "metadata": {},
   "source": [
    "**Observation:** most users born between 1985 to 1995, in 2019, they are between 24 to 34 years old."
   ]
  },
  {
   "cell_type": "markdown",
   "metadata": {},
   "source": [
    "### *Discuss the distribution(s) of your variable(s) of interest. Were there any unusual points? Did you need to perform any transformations?*\n",
    "\n",
    "> 1. some super large data for bike riding duration, don't need to change, since all of them are less than 24 hours.\n",
    "2. some end_date values are 2019-03-01 for the feburary dataset, don't need to change, since all of them started to use on 2019-02-28.\n",
    "3. some people have very old age values, like above 90 years old, might be wrong data, but needn't to be changed, since it won't have effect on conclusions and other data for this ride are reasonable.\n",
    "4. some people chose 'other' for gender, it's fine due to people's self-identification, and only with small percentage.\n",
    "\n",
    "### *Of the features you investigated, were there any unusual distributions? Did you perform any operations on the data to tidy, adjust, or change the form of the data? If so, why did you do this?*\n",
    "\n",
    "> 1. most of those data trends look valid to me.\n",
    "2. male user made up of around 75% of total users, which is a bit surprising."
   ]
  },
  {
   "cell_type": "markdown",
   "metadata": {},
   "source": [
    "## <font color='cornflowerblue'>Bivariate Exploration</font>\n",
    "\n",
    "**Question:** Is there any differences between different gender, in terms of biking duration?"
   ]
  },
  {
   "cell_type": "code",
   "execution_count": 41,
   "metadata": {},
   "outputs": [
    {
     "data": {
      "image/png": "[encoded data removed]",
      "text/plain": [
       "<Figure size 432x288 with 1 Axes>"
      ]
     },
     "metadata": {
      "needs_background": "light"
     },
     "output_type": "display_data"
    }
   ],
   "source": [
    "sb.violinplot(data=df_clean, y='member_gender', x='duration_sec'); \n",
    "plt.title('gender difference for biking duration');\n",
    "\n",
    "# users in any gender categories might use the bike above 80000 seconds"
   ]
  },
  {
   "cell_type": "markdown",
   "metadata": {},
   "source": [
    "**Observation:** Em... too many outliers, let's change a method of plotting."
   ]
  },
  {
   "cell_type": "code",
   "execution_count": 42,
   "metadata": {},
   "outputs": [
    {
     "data": {
      "image/png": "[encoded data removed]",
      "text/plain": [
       "<Figure size 432x288 with 1 Axes>"
      ]
     },
     "metadata": {
      "needs_background": "light"
     },
     "output_type": "display_data"
    }
   ],
   "source": [
    "sb.boxplot(data=df_clean, y='member_gender', x='duration_sec'); \n",
    "plt.xlim((0, 2000));\n",
    "plt.title('gender difference for biking duration');\n",
    "\n",
    "# male users have less Q1, median and Q2 values for duration compared to female and other users"
   ]
  },
  {
   "cell_type": "markdown",
   "metadata": {},
   "source": [
    "**Observation:** It is actually surprising that females ride bike for longer time on average. Since 75% users are male, maybe male users have more users that ride bike for very short time."
   ]
  },
  {
   "cell_type": "code",
   "execution_count": 65,
   "metadata": {},
   "outputs": [
    {
     "data": {
      "text/plain": [
       "member_gender\n",
       "Female    779.372855\n",
       "Male      672.893480\n",
       "Other     997.827508\n",
       "Name: duration_sec, dtype: float64"
      ]
     },
     "execution_count": 65,
     "metadata": {},
     "output_type": "execute_result"
    }
   ],
   "source": [
    "df_clean.groupby(['member_gender']).duration_sec.mean() # the trend above can also be applied to average duartion"
   ]
  },
  {
   "cell_type": "code",
   "execution_count": 44,
   "metadata": {},
   "outputs": [
    {
     "data": {
      "image/png": "[encoded data removed]",
      "text/plain": [
       "<Figure size 504x288 with 1 Axes>"
      ]
     },
     "metadata": {
      "needs_background": "light"
     },
     "output_type": "display_data"
    }
   ],
   "source": [
    "bins = 10**np.arange(1.5, 5, 0.05)\n",
    "plt.figure(figsize=(7, 4));\n",
    "plt.hist(data = df_clean[df_clean.member_gender == 'Male'], x = 'duration_sec', bins=bins, alpha=0.5);\n",
    "plt.hist(data = df_clean[df_clean.member_gender == 'Female'], x = 'duration_sec', bins=bins, alpha=0.5);\n",
    "plt.hist(data = df_clean[df_clean.member_gender == 'Other'], x = 'duration_sec', bins=bins, alpha=0.5);\n",
    "plt.xscale('log')\n",
    "ticks = [100, 200, 500, 1000, 2000, 5000, 10000, 20000, 50000]\n",
    "labels = ['{}'.format(h) for h in ticks]\n",
    "plt.xticks(ticks, labels);\n",
    "plt.title('gender difference for biking duration');\n",
    "plt.xlabel('biking duration (s)');\n",
    "plt.ylabel('frequency');"
   ]
  },
  {
   "cell_type": "markdown",
   "metadata": {},
   "source": [
    "**Observation:** distribution of biking duration is more right-skewed for female users, which means that on average they are riding bike for longer time."
   ]
  },
  {
   "cell_type": "markdown",
   "metadata": {},
   "source": [
    "**Question:** Does biking duration has strong relationship to the age?"
   ]
  },
  {
   "cell_type": "code",
   "execution_count": 49,
   "metadata": {},
   "outputs": [
    {
     "data": {
      "image/png": "[encoded data removed]",
      "text/plain": [
       "<Figure size 432x288 with 1 Axes>"
      ]
     },
     "metadata": {
      "needs_background": "light"
     },
     "output_type": "display_data"
    }
   ],
   "source": [
    "df_new = df_clean.dropna() # get rid of NaN values\n",
    "plt.scatter(data = df_new, x = 'member_birth_year', y = 'duration_sec');\n",
    "plt.xlabel('user birth year');\n",
    "plt.ylabel('biking duration (s)');\n",
    "plt.title('scatter plot between birth year and biking duration');\n",
    "\n",
    "# clearly young people tend to ride for longer time"
   ]
  },
  {
   "cell_type": "markdown",
   "metadata": {},
   "source": [
    "**Observation:** well, maybe the maximum biking duration are related to age, young people could have chance to make higher maximum riding duration."
   ]
  },
  {
   "cell_type": "code",
   "execution_count": 51,
   "metadata": {},
   "outputs": [
    {
     "data": {
      "image/png": "[encoded data removed]",
      "text/plain": [
       "<Figure size 1152x288 with 3 Axes>"
      ]
     },
     "metadata": {
      "needs_background": "light"
     },
     "output_type": "display_data"
    }
   ],
   "source": [
    "plt.figure(figsize=(16, 4));\n",
    "\n",
    "plt.subplot(1, 3, 1)\n",
    "avr_dur_yr = df_new.groupby(['member_birth_year']).duration_sec.std()\n",
    "sb.regplot(x = avr_dur_yr.index, y = avr_dur_yr);\n",
    "plt.title('birth year vs biking duration standard deviation');\n",
    "\n",
    "plt.subplot(1, 3, 2)\n",
    "avr_dur_yr = df_new.groupby(['member_birth_year']).duration_sec.mean()\n",
    "sb.regplot(x = avr_dur_yr.index, y = avr_dur_yr);\n",
    "plt.title('birth year vs biking duration average');\n",
    "\n",
    "plt.subplot(1, 3, 3)\n",
    "avr_dur_yr = df_new.groupby(['member_birth_year']).duration_sec.median()\n",
    "sb.regplot(x = avr_dur_yr.index, y = avr_dur_yr);\n",
    "plt.title('birth year vs biking duration median');\n",
    "\n",
    "# no obvious trend could be found"
   ]
  },
  {
   "cell_type": "markdown",
   "metadata": {},
   "source": [
    "**Observation:** actually user age and average biking duration doesn't have very clear correlation."
   ]
  },
  {
   "cell_type": "code",
   "execution_count": 53,
   "metadata": {},
   "outputs": [
    {
     "name": "stdout",
     "output_type": "stream",
     "text": [
      "       start_station_latitude  start_station_longitude\n",
      "count                   329.0                    329.0\n",
      "mean                      0.0                      0.0\n",
      "std                       0.0                      0.0\n",
      "min                       0.0                      0.0\n",
      "25%                       0.0                      0.0\n",
      "50%                       0.0                      0.0\n",
      "75%                       0.0                      0.0\n",
      "max                       0.0                      0.0\n"
     ]
    }
   ],
   "source": [
    "start_num = df_clean.start_station_id.value_counts()\n",
    "dict1 = df_clean.groupby(['start_station_id'])[['start_station_latitude', 'start_station_longitude']].mean()\n",
    "print(df_clean.groupby(['start_station_id'])[['start_station_latitude', 'start_station_longitude']].std().describe())\n",
    "\n",
    "# calculate the latitude and longitude for different stations as starts, and standard deviation shall be almost zero"
   ]
  },
  {
   "cell_type": "code",
   "execution_count": 54,
   "metadata": {},
   "outputs": [],
   "source": [
    "start_lat = []\n",
    "start_log = []\n",
    "for i in range(start_num.shape[0]):\n",
    "    for v in range(dict1.shape[0]):\n",
    "        if dict1.index[v] == start_num.index[i]:\n",
    "            start_lat.append(dict1.start_station_latitude[v])\n",
    "            start_log.append(dict1.start_station_longitude[v])\n",
    "            break"
   ]
  },
  {
   "cell_type": "code",
   "execution_count": 55,
   "metadata": {},
   "outputs": [
    {
     "name": "stdout",
     "output_type": "stream",
     "text": [
      "       end_station_latitude  end_station_longitude\n",
      "count                 329.0                  329.0\n",
      "mean                    0.0                    0.0\n",
      "std                     0.0                    0.0\n",
      "min                     0.0                    0.0\n",
      "25%                     0.0                    0.0\n",
      "50%                     0.0                    0.0\n",
      "75%                     0.0                    0.0\n",
      "max                     0.0                    0.0\n"
     ]
    }
   ],
   "source": [
    "end_num = df_clean.end_station_id.value_counts()\n",
    "dict2 = df_clean.groupby(['end_station_id'])[['end_station_latitude', 'end_station_longitude']].mean()\n",
    "print(df_clean.groupby(['end_station_id'])[['end_station_latitude', 'end_station_longitude']].std().describe())\n",
    "\n",
    "# calculate the latitude and longitude for different stations as ends, and standard deviation shall be almost zero"
   ]
  },
  {
   "cell_type": "code",
   "execution_count": 56,
   "metadata": {},
   "outputs": [],
   "source": [
    "end_lat = []\n",
    "end_log = []\n",
    "for i in range(end_num.shape[0]):\n",
    "    for v in range(dict1.shape[0]):\n",
    "        if dict2.index[v] == end_num.index[i]:\n",
    "            end_lat.append(dict2.end_station_latitude[v])\n",
    "            end_log.append(dict2.end_station_longitude[v])\n",
    "            break"
   ]
  },
  {
   "cell_type": "markdown",
   "metadata": {},
   "source": [
    "**Question:** how many geographical areas the dataset came from?"
   ]
  },
  {
   "cell_type": "code",
   "execution_count": 58,
   "metadata": {},
   "outputs": [
    {
     "data": {
      "image/png": "[encoded data removed]",
      "text/plain": [
       "<Figure size 864x288 with 2 Axes>"
      ]
     },
     "metadata": {
      "needs_background": "light"
     },
     "output_type": "display_data"
    }
   ],
   "source": [
    "plt.figure(figsize=(12, 4));\n",
    "plt.subplot(1, 2, 1)\n",
    "plt.xlabel('longitude');\n",
    "plt.ylabel('latitude');\n",
    "plt.title('distribution of biking stations for start');\n",
    "plt.scatter(x = start_log, y = start_lat, s=0.4, color='b');\n",
    "plt.subplot(1, 2, 2)\n",
    "plt.scatter(x = end_log, y = end_lat, s=0.4, color='r');\n",
    "plt.xlabel('longitude');\n",
    "plt.ylabel('latitude');\n",
    "plt.title('distribution of biking stations for end');\n",
    "\n",
    "# there are three main areas for starts and ends, looks quite alike\n",
    "# actually they are 3 cities: san francisco (upper left), oakland (upper right) and san jose (lower right)"
   ]
  },
  {
   "cell_type": "markdown",
   "metadata": {},
   "source": [
    "**Observation:** we can see 3 regions here, by checking Google maps, they are San Francisco, Oakland and San Jose."
   ]
  },
  {
   "cell_type": "code",
   "execution_count": 60,
   "metadata": {},
   "outputs": [],
   "source": [
    "city_s = []\n",
    "city_list = ['San Francisco', 'Oakland', 'San Jose']\n",
    "for i in range(total):\n",
    "    if df_clean.start_station_longitude[i]>-122.1:\n",
    "        city_s.append(city_list[2])\n",
    "    elif df_clean.start_station_longitude[i]<-122.35:\n",
    "        city_s.append(city_list[0])\n",
    "    else:\n",
    "        city_s.append(city_list[1])\n",
    "df_clean['start_city'] = city_s # add a column to indicate the city to start"
   ]
  },
  {
   "cell_type": "code",
   "execution_count": 61,
   "metadata": {},
   "outputs": [],
   "source": [
    "city_e = []\n",
    "city_list = ['San Francisco', 'Oakland', 'San Jose']\n",
    "for i in range(total):\n",
    "    if df_clean.start_station_longitude[i]>-122.1:\n",
    "        city_e.append(city_list[2])\n",
    "    elif df_clean.start_station_longitude[i]<-122.35:\n",
    "        city_e.append(city_list[0])\n",
    "    else:\n",
    "        city_e.append(city_list[1])\n",
    "df_clean['end_city'] = city_e # add a column to indicate the city to end"
   ]
  },
  {
   "cell_type": "code",
   "execution_count": 62,
   "metadata": {},
   "outputs": [],
   "source": [
    "for i in range(total):\n",
    "    if df_clean.start_city[i] != df_clean.end_city[i]:\n",
    "        print(df_clean.iloc[1, :])\n",
    "        \n",
    "# nothing print out, means nobody ride bike among cities"
   ]
  },
  {
   "cell_type": "code",
   "execution_count": 63,
   "metadata": {},
   "outputs": [],
   "source": [
    "df_clean['city'] = df_clean['start_city']\n",
    "df_clean.drop(['start_city', 'end_city'], axis=1, inplace=True) # now we only need one column called city, which is enough"
   ]
  },
  {
   "cell_type": "markdown",
   "metadata": {},
   "source": [
    "**Question:** Which city has most users?"
   ]
  },
  {
   "cell_type": "code",
   "execution_count": 84,
   "metadata": {},
   "outputs": [
    {
     "data": {
      "image/png": "[encoded data removed]",
      "text/plain": [
       "<Figure size 432x288 with 1 Axes>"
      ]
     },
     "metadata": {},
     "output_type": "display_data"
    }
   ],
   "source": [
    "# user percentage among cities\n",
    "\n",
    "city_count = df_clean.city.value_counts()\n",
    "plt.pie(city_count, labels=city_count.index, autopct='%.2f');\n",
    "plt.title('biking tour number distribution among 3 cities');"
   ]
  },
  {
   "cell_type": "markdown",
   "metadata": {},
   "source": [
    "**Observation:** San Francisco contributed 73% of GoBike users."
   ]
  },
  {
   "cell_type": "markdown",
   "metadata": {},
   "source": [
    "**Question:** The longest trip for each city?"
   ]
  },
  {
   "cell_type": "code",
   "execution_count": 87,
   "metadata": {},
   "outputs": [
    {
     "data": {
      "image/png": "[encoded data removed]",
      "text/plain": [
       "<Figure size 432x288 with 1 Axes>"
      ]
     },
     "metadata": {
      "needs_background": "light"
     },
     "output_type": "display_data"
    }
   ],
   "source": [
    "df_clean.groupby(['city']).duration_sec.max().plot(kind='bar');\n",
    "plt.xticks(rotation = 0);\n",
    "plt.ylabel('biking duration (s)')\n",
    "plt.title('longest biking trip for 3 cities');"
   ]
  },
  {
   "cell_type": "markdown",
   "metadata": {},
   "source": [
    "**Observation:** San Francisco and Oakland have biking tours longer than 80000s, but San Jose only have biking tours longer than 40000s, maybe due to much smaller user group."
   ]
  },
  {
   "cell_type": "markdown",
   "metadata": {},
   "source": [
    "**Question:** average biking durations in 3 cities?"
   ]
  },
  {
   "cell_type": "code",
   "execution_count": 93,
   "metadata": {},
   "outputs": [
    {
     "data": {
      "image/png": "[encoded data removed]",
      "text/plain": [
       "<Figure size 432x288 with 1 Axes>"
      ]
     },
     "metadata": {
      "needs_background": "light"
     },
     "output_type": "display_data"
    }
   ],
   "source": [
    "sb.boxplot(data=df_clean, y='city', x='duration_sec'); \n",
    "plt.xlim((0, 2000));\n",
    "# generally speaking, san francisco users ride bike for longer time\n",
    "plt.title('average biking duration for users in 3 cities');"
   ]
  },
  {
   "cell_type": "markdown",
   "metadata": {},
   "source": [
    "**Observation:** San Francisco users biking for longer time relatively, perhaps due to more traffic jam and larger city scale."
   ]
  },
  {
   "cell_type": "markdown",
   "metadata": {},
   "source": [
    "### *Talk about some of the relationships you observed in this part of the investigation. How did the feature(s) of interest vary with other features in the dataset?*\n",
    "\n",
    "> 1. female users ride bike for longer time than male users.\n",
    "2. users in san francisco ride bike for longer time than users from other cities.\n",
    "\n",
    "### *Did you observe any interesting relationships between the other features (not the main feature(s) of interest)?*\n",
    "\n",
    "> 1. the dataset actually includes information from 3 cities, san francisco, san jose and oakland, though they are closed to each other. \n",
    "2. no user ride bike from one city to another city."
   ]
  },
  {
   "cell_type": "markdown",
   "metadata": {},
   "source": [
    "## <font color='cornflowerblue'>Multivariate Exploration</font>\n",
    "\n",
    "**Question:** which region of 3 cities are more popular for biking events?"
   ]
  },
  {
   "cell_type": "code",
   "execution_count": 67,
   "metadata": {},
   "outputs": [],
   "source": [
    "fq = (df_clean.start_station_id.value_counts() + df_clean.end_station_id.value_counts())\n",
    "st = []\n",
    "ct = []\n",
    "for i in range(fq.shape[0]):\n",
    "    st.append(df_clean[df_clean.start_station_id == fq.index[i]].start_station_name.iloc[0])\n",
    "    ct.append(df_clean[df_clean.start_station_id == fq.index[i]].city.iloc[0])"
   ]
  },
  {
   "cell_type": "code",
   "execution_count": 68,
   "metadata": {},
   "outputs": [],
   "source": [
    "test = pd.concat([fq, dict1], axis=1)\n",
    "test.columns=['frequency', 'lat', 'log']\n",
    "test['station']=st\n",
    "test['city']=ct"
   ]
  },
  {
   "cell_type": "code",
   "execution_count": 69,
   "metadata": {},
   "outputs": [],
   "source": [
    "df_sf = test.query(\"city == 'San Francisco'\")\n",
    "df_sf.frequency.value_counts()\n",
    "df_sj = test.query(\"city == 'San Jose'\")\n",
    "df_ok = test.query(\"city == 'Oakland'\")"
   ]
  },
  {
   "cell_type": "code",
   "execution_count": 94,
   "metadata": {},
   "outputs": [
    {
     "data": {
      "image/png": "[encoded data removed]",
      "text/plain": [
       "<Figure size 1080x360 with 6 Axes>"
      ]
     },
     "metadata": {
      "needs_background": "light"
     },
     "output_type": "display_data"
    }
   ],
   "source": [
    "plt.figure(figsize=(15, 5));\n",
    "\n",
    "plt.subplot(1, 3, 1)\n",
    "plt.scatter(data = df_sf, x = 'log', y = 'lat', c = 'frequency', cmap = 'Blues');\n",
    "plt.xticks([]);\n",
    "plt.yticks([]);\n",
    "plt.title('San Francisco');\n",
    "plt.xlabel('longitude');\n",
    "plt.ylabel('latitude');\n",
    "plt.colorbar();\n",
    "\n",
    "plt.subplot(1, 3, 2)\n",
    "plt.scatter(data = df_ok, x = 'log', y = 'lat', c = 'frequency', cmap = 'Reds');\n",
    "plt.xticks([]);\n",
    "plt.yticks([]);\n",
    "plt.title('Oakland');\n",
    "plt.xlabel('longitude');\n",
    "plt.ylabel('latitude');\n",
    "plt.colorbar();\n",
    "\n",
    "plt.subplot(1, 3, 3)\n",
    "plt.scatter(data = df_sj, x = 'log', y = 'lat', c = 'frequency', cmap = 'Purples');\n",
    "plt.xticks([]);\n",
    "plt.yticks([]);\n",
    "plt.title('San Jose');\n",
    "plt.xlabel('longitude');\n",
    "plt.ylabel('latitude');\n",
    "plt.colorbar();"
   ]
  },
  {
   "cell_type": "markdown",
   "metadata": {},
   "source": [
    "**Observation:** NE San Francisco, NE & S in Oakland and SE in San Jose have more frequent biking events."
   ]
  },
  {
   "cell_type": "code",
   "execution_count": 71,
   "metadata": {},
   "outputs": [
    {
     "data": {
      "text/plain": [
       "start_station_id\n",
       "67    San Francisco Caltrain Station 2  (Townsend St...\n",
       "58                                 Market St at 10th St\n",
       "21     Montgomery St BART Station (Market St at 2nd St)\n",
       "15    San Francisco Ferry Building (Harry Bridges Pl...\n",
       "81                                   Berry St at 4th St\n",
       "Name: station, dtype: object"
      ]
     },
     "execution_count": 71,
     "metadata": {},
     "output_type": "execute_result"
    }
   ],
   "source": [
    "df_sf.sort_values(by=['frequency'], ascending=False)[:5].station"
   ]
  },
  {
   "cell_type": "markdown",
   "metadata": {},
   "source": [
    "**Question:** the percentage of users and subscriber in 3 cities?"
   ]
  },
  {
   "cell_type": "code",
   "execution_count": 72,
   "metadata": {},
   "outputs": [
    {
     "data": {
      "image/png": "[encoded data removed]",
      "text/plain": [
       "<Figure size 432x288 with 1 Axes>"
      ]
     },
     "metadata": {
      "needs_background": "light"
     },
     "output_type": "display_data"
    }
   ],
   "source": [
    "sb.barplot(data = df_clean, x = 'city', y = 'duration_sec', hue = 'user_type');\n",
    "\n",
    "# no matter which city, customers' average riding durations are much longer than subscribers"
   ]
  },
  {
   "cell_type": "markdown",
   "metadata": {},
   "source": [
    "**Observation:** customer are much more than subscribers, especially in San Jose."
   ]
  },
  {
   "cell_type": "markdown",
   "metadata": {},
   "source": [
    "**Question:** for 3 cities, users have what kind of preference of durations for biking in weekdays/weekend?"
   ]
  },
  {
   "cell_type": "code",
   "execution_count": 73,
   "metadata": {},
   "outputs": [
    {
     "data": {
      "image/png": "[encoded data removed]",
      "text/plain": [
       "<Figure size 432x288 with 1 Axes>"
      ]
     },
     "metadata": {
      "needs_background": "light"
     },
     "output_type": "display_data"
    }
   ],
   "source": [
    "sb.barplot(data = df_clean, x = 'city', y = 'duration_sec', hue = 'start_day');\n",
    "\n",
    "# in San Jose, users ride bikes with similar duration for weekends and weekdays, while in other cities, users ride for longer time during weekends"
   ]
  },
  {
   "cell_type": "markdown",
   "metadata": {},
   "source": [
    "**Observation:** clearly in SF and Oakland, people biking for longer time during weekends, but this trend is not clear on San Jose. Maybe the traffic in San Jose doesn't change much from weekdays to weekends."
   ]
  },
  {
   "cell_type": "markdown",
   "metadata": {},
   "source": [
    "**Question:** bike sharing percentages in different cities?"
   ]
  },
  {
   "cell_type": "code",
   "execution_count": 88,
   "metadata": {},
   "outputs": [
    {
     "data": {
      "image/png": "[encoded data removed]",
      "text/plain": [
       "<Figure size 432x288 with 1 Axes>"
      ]
     },
     "metadata": {
      "needs_background": "light"
     },
     "output_type": "display_data"
    }
   ],
   "source": [
    "sb.barplot(data = df_clean, x = 'city', y = 'duration_sec', hue = 'bike_share_for_all_trip');"
   ]
  },
  {
   "cell_type": "markdown",
   "metadata": {},
   "source": [
    "**Observation:** Lower bike sharing rate in San Jose and higher rate in rest cities."
   ]
  },
  {
   "cell_type": "markdown",
   "metadata": {},
   "source": [
    "**Question:** preference of biking time during weekdays/weekends for different gender?"
   ]
  },
  {
   "cell_type": "code",
   "execution_count": 75,
   "metadata": {},
   "outputs": [
    {
     "data": {
      "image/png": "[encoded data removed]",
      "text/plain": [
       "<Figure size 432x288 with 1 Axes>"
      ]
     },
     "metadata": {
      "needs_background": "light"
     },
     "output_type": "display_data"
    }
   ],
   "source": [
    "sb.barplot(data = df_new, x = 'member_gender', y = 'duration_sec', hue = 'start_day');"
   ]
  },
  {
   "cell_type": "markdown",
   "metadata": {},
   "source": [
    "**Observation:** no meaningful trends observed, no matter what gender users have, they perfer to ride for longer time during weekends."
   ]
  },
  {
   "cell_type": "code",
   "execution_count": 76,
   "metadata": {},
   "outputs": [
    {
     "data": {
      "text/html": [
       "<div>\n",
       "<style scoped>\n",
       "    .dataframe tbody tr th:only-of-type {\n",
       "        vertical-align: middle;\n",
       "    }\n",
       "\n",
       "    .dataframe tbody tr th {\n",
       "        vertical-align: top;\n",
       "    }\n",
       "\n",
       "    .dataframe thead th {\n",
       "        text-align: right;\n",
       "    }\n",
       "</style>\n",
       "<table border=\"1\" class=\"dataframe\">\n",
       "  <thead>\n",
       "    <tr style=\"text-align: right;\">\n",
       "      <th></th>\n",
       "      <th>frequency</th>\n",
       "      <th>lat</th>\n",
       "      <th>log</th>\n",
       "      <th>station</th>\n",
       "      <th>city</th>\n",
       "    </tr>\n",
       "    <tr>\n",
       "      <th>start_station_id</th>\n",
       "      <th></th>\n",
       "      <th></th>\n",
       "      <th></th>\n",
       "      <th></th>\n",
       "      <th></th>\n",
       "    </tr>\n",
       "  </thead>\n",
       "  <tbody>\n",
       "    <tr>\n",
       "      <th>67</th>\n",
       "      <td>8401</td>\n",
       "      <td>37.776639</td>\n",
       "      <td>-122.395526</td>\n",
       "      <td>San Francisco Caltrain Station 2  (Townsend St...</td>\n",
       "      <td>San Francisco</td>\n",
       "    </tr>\n",
       "    <tr>\n",
       "      <th>58</th>\n",
       "      <td>7877</td>\n",
       "      <td>37.776619</td>\n",
       "      <td>-122.417385</td>\n",
       "      <td>Market St at 10th St</td>\n",
       "      <td>San Francisco</td>\n",
       "    </tr>\n",
       "    <tr>\n",
       "      <th>21</th>\n",
       "      <td>6542</td>\n",
       "      <td>37.789625</td>\n",
       "      <td>-122.400811</td>\n",
       "      <td>Montgomery St BART Station (Market St at 2nd St)</td>\n",
       "      <td>San Francisco</td>\n",
       "    </tr>\n",
       "  </tbody>\n",
       "</table>\n",
       "</div>"
      ],
      "text/plain": [
       "                  frequency        lat         log  \\\n",
       "start_station_id                                     \n",
       "67                     8401  37.776639 -122.395526   \n",
       "58                     7877  37.776619 -122.417385   \n",
       "21                     6542  37.789625 -122.400811   \n",
       "\n",
       "                                                            station  \\\n",
       "start_station_id                                                      \n",
       "67                San Francisco Caltrain Station 2  (Townsend St...   \n",
       "58                                             Market St at 10th St   \n",
       "21                 Montgomery St BART Station (Market St at 2nd St)   \n",
       "\n",
       "                           city  \n",
       "start_station_id                 \n",
       "67                San Francisco  \n",
       "58                San Francisco  \n",
       "21                San Francisco  "
      ]
     },
     "execution_count": 76,
     "metadata": {},
     "output_type": "execute_result"
    }
   ],
   "source": [
    "test.sort_values(by=['frequency'], ascending=False)[:3]"
   ]
  },
  {
   "cell_type": "code",
   "execution_count": 77,
   "metadata": {},
   "outputs": [
    {
     "data": {
      "text/plain": [
       "58     147\n",
       "21     137\n",
       "90     128\n",
       "89     117\n",
       "16     110\n",
       "      ... \n",
       "360      1\n",
       "141      1\n",
       "140      1\n",
       "361      1\n",
       "137      1\n",
       "Name: end_station_id, Length: 145, dtype: int64"
      ]
     },
     "execution_count": 77,
     "metadata": {},
     "output_type": "execute_result"
    }
   ],
   "source": [
    "df_67s = df_clean.query(\"start_station_id == '67'\")\n",
    "df_67s.end_station_id.value_counts()"
   ]
  },
  {
   "cell_type": "code",
   "execution_count": 78,
   "metadata": {},
   "outputs": [
    {
     "data": {
      "text/plain": [
       "90     272\n",
       "58     239\n",
       "89     222\n",
       "350    166\n",
       "60     143\n",
       "      ... \n",
       "29       1\n",
       "361      1\n",
       "131      1\n",
       "375      1\n",
       "118      1\n",
       "Name: start_station_id, Length: 145, dtype: int64"
      ]
     },
     "execution_count": 78,
     "metadata": {},
     "output_type": "execute_result"
    }
   ],
   "source": [
    "df_67e = df_clean.query(\"end_station_id == '67'\")\n",
    "df_67e.start_station_id.value_counts()"
   ]
  },
  {
   "cell_type": "code",
   "execution_count": 79,
   "metadata": {},
   "outputs": [],
   "source": [
    "test2 = []\n",
    "for i in range(total):\n",
    "    test2.append(df_clean.start_station_id[i]+'-'+df_clean.end_station_id[i])"
   ]
  },
  {
   "cell_type": "code",
   "execution_count": 80,
   "metadata": {},
   "outputs": [],
   "source": [
    "from collections import Counter\n",
    "freq = Counter(test2)\n",
    "freq_new = dict(sorted(freq.items(), key=lambda item: item[1], reverse=True))"
   ]
  },
  {
   "cell_type": "code",
   "execution_count": 81,
   "metadata": {},
   "outputs": [
    {
     "data": {
      "text/plain": [
       "['81-15',\n",
       " '15-6',\n",
       " '196-182',\n",
       " '6-16',\n",
       " '182-196',\n",
       " '58-21',\n",
       " '90-67',\n",
       " '280-296',\n",
       " '58-3',\n",
       " '296-280']"
      ]
     },
     "execution_count": 81,
     "metadata": {},
     "output_type": "execute_result"
    }
   ],
   "source": [
    "list( freq_new.keys())[:10]"
   ]
  },
  {
   "cell_type": "code",
   "execution_count": 82,
   "metadata": {},
   "outputs": [
    {
     "data": {
      "text/plain": [
       "[337, 314, 310, 285, 284, 272, 272, 249, 247, 242]"
      ]
     },
     "execution_count": 82,
     "metadata": {},
     "output_type": "execute_result"
    }
   ],
   "source": [
    "list( freq_new.values())[:10]"
   ]
  },
  {
   "cell_type": "code",
   "execution_count": 89,
   "metadata": {},
   "outputs": [],
   "source": [
    "net = []\n",
    "ride_out = []\n",
    "ride_in = []\n",
    "category = []\n",
    "for i in range(test.shape[0]):\n",
    "    key = test.index[i]\n",
    "    a = df_clean[df_clean.start_station_id == key].shape[0]\n",
    "    b = df_clean[df_clean.end_station_id == key].shape[0]\n",
    "    ride_out.append(a)\n",
    "    ride_in.append(b)\n",
    "    if a > b:\n",
    "        category.append('out')\n",
    "    elif a < b:\n",
    "        category.append('in')\n",
    "    else:\n",
    "        category.append('equal')\n",
    "test['out'] = ride_out\n",
    "test['in'] = ride_in\n",
    "test['category'] = category"
   ]
  },
  {
   "cell_type": "markdown",
   "metadata": {},
   "source": [
    "**Question:** How many stations have bike surplus, how many for bike shortage?"
   ]
  },
  {
   "cell_type": "code",
   "execution_count": 90,
   "metadata": {},
   "outputs": [
    {
     "data": {
      "image/png": "[encoded data removed]",
      "text/plain": [
       "<Figure size 936x432 with 1 Axes>"
      ]
     },
     "metadata": {
      "needs_background": "light"
     },
     "output_type": "display_data"
    }
   ],
   "source": [
    "plt.figure(figsize=(13, 6));\n",
    "plt.subplot(1, 2, 1)\n",
    "mks = [['in', 'o'], ['out', 's'], ['equal', '^']]\n",
    "for i, v in mks:\n",
    "    test_i = test[test['category'] == i]\n",
    "    plt.scatter(data = test_i, x ='in', y ='out', marker = v, alpha=0.5);\n",
    "plt.legend(['in','out', 'equal']);"
   ]
  },
  {
   "cell_type": "markdown",
   "metadata": {},
   "source": [
    "**Observation:** Only few stations have severe bike shortage or surplus, most of them have balanced bike in and out."
   ]
  },
  {
   "cell_type": "code",
   "execution_count": 99,
   "metadata": {},
   "outputs": [],
   "source": [
    "test['net'] = test['in'] - test['out']"
   ]
  },
  {
   "cell_type": "code",
   "execution_count": 100,
   "metadata": {},
   "outputs": [
    {
     "data": {
      "text/html": [
       "<div>\n",
       "<style scoped>\n",
       "    .dataframe tbody tr th:only-of-type {\n",
       "        vertical-align: middle;\n",
       "    }\n",
       "\n",
       "    .dataframe tbody tr th {\n",
       "        vertical-align: top;\n",
       "    }\n",
       "\n",
       "    .dataframe thead th {\n",
       "        text-align: right;\n",
       "    }\n",
       "</style>\n",
       "<table border=\"1\" class=\"dataframe\">\n",
       "  <thead>\n",
       "    <tr style=\"text-align: right;\">\n",
       "      <th></th>\n",
       "      <th>frequency</th>\n",
       "      <th>lat</th>\n",
       "      <th>log</th>\n",
       "      <th>station</th>\n",
       "      <th>city</th>\n",
       "      <th>out</th>\n",
       "      <th>in</th>\n",
       "      <th>category</th>\n",
       "      <th>net</th>\n",
       "    </tr>\n",
       "    <tr>\n",
       "      <th>start_station_id</th>\n",
       "      <th></th>\n",
       "      <th></th>\n",
       "      <th></th>\n",
       "      <th></th>\n",
       "      <th></th>\n",
       "      <th></th>\n",
       "      <th></th>\n",
       "      <th></th>\n",
       "      <th></th>\n",
       "    </tr>\n",
       "  </thead>\n",
       "  <tbody>\n",
       "    <tr>\n",
       "      <th>243</th>\n",
       "      <td>2894</td>\n",
       "      <td>37.869360</td>\n",
       "      <td>-122.254337</td>\n",
       "      <td>Bancroft Way at College Ave</td>\n",
       "      <td>Oakland</td>\n",
       "      <td>1770</td>\n",
       "      <td>1124</td>\n",
       "      <td>out</td>\n",
       "      <td>-646</td>\n",
       "    </tr>\n",
       "    <tr>\n",
       "      <th>253</th>\n",
       "      <td>1272</td>\n",
       "      <td>37.866418</td>\n",
       "      <td>-122.253799</td>\n",
       "      <td>Haste St at College Ave</td>\n",
       "      <td>Oakland</td>\n",
       "      <td>798</td>\n",
       "      <td>474</td>\n",
       "      <td>out</td>\n",
       "      <td>-324</td>\n",
       "    </tr>\n",
       "    <tr>\n",
       "      <th>22</th>\n",
       "      <td>4327</td>\n",
       "      <td>37.789756</td>\n",
       "      <td>-122.394643</td>\n",
       "      <td>Howard St at Beale St</td>\n",
       "      <td>San Francisco</td>\n",
       "      <td>2293</td>\n",
       "      <td>2034</td>\n",
       "      <td>out</td>\n",
       "      <td>-259</td>\n",
       "    </tr>\n",
       "    <tr>\n",
       "      <th>71</th>\n",
       "      <td>999</td>\n",
       "      <td>37.773063</td>\n",
       "      <td>-122.439078</td>\n",
       "      <td>Broderick St at Oak St</td>\n",
       "      <td>San Francisco</td>\n",
       "      <td>624</td>\n",
       "      <td>375</td>\n",
       "      <td>out</td>\n",
       "      <td>-249</td>\n",
       "    </tr>\n",
       "    <tr>\n",
       "      <th>343</th>\n",
       "      <td>2096</td>\n",
       "      <td>37.783172</td>\n",
       "      <td>-122.393572</td>\n",
       "      <td>Bryant St at 2nd St</td>\n",
       "      <td>San Francisco</td>\n",
       "      <td>1145</td>\n",
       "      <td>951</td>\n",
       "      <td>out</td>\n",
       "      <td>-194</td>\n",
       "    </tr>\n",
       "  </tbody>\n",
       "</table>\n",
       "</div>"
      ],
      "text/plain": [
       "                  frequency        lat         log  \\\n",
       "start_station_id                                     \n",
       "243                    2894  37.869360 -122.254337   \n",
       "253                    1272  37.866418 -122.253799   \n",
       "22                     4327  37.789756 -122.394643   \n",
       "71                      999  37.773063 -122.439078   \n",
       "343                    2096  37.783172 -122.393572   \n",
       "\n",
       "                                      station           city   out    in  \\\n",
       "start_station_id                                                           \n",
       "243               Bancroft Way at College Ave        Oakland  1770  1124   \n",
       "253                   Haste St at College Ave        Oakland   798   474   \n",
       "22                      Howard St at Beale St  San Francisco  2293  2034   \n",
       "71                     Broderick St at Oak St  San Francisco   624   375   \n",
       "343                       Bryant St at 2nd St  San Francisco  1145   951   \n",
       "\n",
       "                 category  net  \n",
       "start_station_id                \n",
       "243                   out -646  \n",
       "253                   out -324  \n",
       "22                    out -259  \n",
       "71                    out -249  \n",
       "343                   out -194  "
      ]
     },
     "execution_count": 100,
     "metadata": {},
     "output_type": "execute_result"
    }
   ],
   "source": [
    "test.sort_values(by=['net'])[:5] # places bikes flow out"
   ]
  },
  {
   "cell_type": "code",
   "execution_count": 101,
   "metadata": {},
   "outputs": [
    {
     "data": {
      "text/html": [
       "<div>\n",
       "<style scoped>\n",
       "    .dataframe tbody tr th:only-of-type {\n",
       "        vertical-align: middle;\n",
       "    }\n",
       "\n",
       "    .dataframe tbody tr th {\n",
       "        vertical-align: top;\n",
       "    }\n",
       "\n",
       "    .dataframe thead th {\n",
       "        text-align: right;\n",
       "    }\n",
       "</style>\n",
       "<table border=\"1\" class=\"dataframe\">\n",
       "  <thead>\n",
       "    <tr style=\"text-align: right;\">\n",
       "      <th></th>\n",
       "      <th>frequency</th>\n",
       "      <th>lat</th>\n",
       "      <th>log</th>\n",
       "      <th>station</th>\n",
       "      <th>city</th>\n",
       "      <th>out</th>\n",
       "      <th>in</th>\n",
       "      <th>category</th>\n",
       "      <th>net</th>\n",
       "    </tr>\n",
       "    <tr>\n",
       "      <th>start_station_id</th>\n",
       "      <th></th>\n",
       "      <th></th>\n",
       "      <th></th>\n",
       "      <th></th>\n",
       "      <th></th>\n",
       "      <th></th>\n",
       "      <th></th>\n",
       "      <th></th>\n",
       "      <th></th>\n",
       "    </tr>\n",
       "  </thead>\n",
       "  <tbody>\n",
       "    <tr>\n",
       "      <th>67</th>\n",
       "      <td>8401</td>\n",
       "      <td>37.776639</td>\n",
       "      <td>-122.395526</td>\n",
       "      <td>San Francisco Caltrain Station 2  (Townsend St...</td>\n",
       "      <td>San Francisco</td>\n",
       "      <td>3544</td>\n",
       "      <td>4857</td>\n",
       "      <td>in</td>\n",
       "      <td>1313</td>\n",
       "    </tr>\n",
       "    <tr>\n",
       "      <th>21</th>\n",
       "      <td>6542</td>\n",
       "      <td>37.789625</td>\n",
       "      <td>-122.400811</td>\n",
       "      <td>Montgomery St BART Station (Market St at 2nd St)</td>\n",
       "      <td>San Francisco</td>\n",
       "      <td>2895</td>\n",
       "      <td>3647</td>\n",
       "      <td>in</td>\n",
       "      <td>752</td>\n",
       "    </tr>\n",
       "    <tr>\n",
       "      <th>15</th>\n",
       "      <td>6078</td>\n",
       "      <td>37.795392</td>\n",
       "      <td>-122.394203</td>\n",
       "      <td>San Francisco Ferry Building (Harry Bridges Pl...</td>\n",
       "      <td>San Francisco</td>\n",
       "      <td>2710</td>\n",
       "      <td>3368</td>\n",
       "      <td>in</td>\n",
       "      <td>658</td>\n",
       "    </tr>\n",
       "    <tr>\n",
       "      <th>6</th>\n",
       "      <td>4594</td>\n",
       "      <td>37.804770</td>\n",
       "      <td>-122.403234</td>\n",
       "      <td>The Embarcadero at Sansome St</td>\n",
       "      <td>San Francisco</td>\n",
       "      <td>2082</td>\n",
       "      <td>2512</td>\n",
       "      <td>in</td>\n",
       "      <td>430</td>\n",
       "    </tr>\n",
       "    <tr>\n",
       "      <th>44</th>\n",
       "      <td>3476</td>\n",
       "      <td>37.781074</td>\n",
       "      <td>-122.411738</td>\n",
       "      <td>Civic Center/UN Plaza BART Station (Market St ...</td>\n",
       "      <td>San Francisco</td>\n",
       "      <td>1611</td>\n",
       "      <td>1865</td>\n",
       "      <td>in</td>\n",
       "      <td>254</td>\n",
       "    </tr>\n",
       "  </tbody>\n",
       "</table>\n",
       "</div>"
      ],
      "text/plain": [
       "                  frequency        lat         log  \\\n",
       "start_station_id                                     \n",
       "67                     8401  37.776639 -122.395526   \n",
       "21                     6542  37.789625 -122.400811   \n",
       "15                     6078  37.795392 -122.394203   \n",
       "6                      4594  37.804770 -122.403234   \n",
       "44                     3476  37.781074 -122.411738   \n",
       "\n",
       "                                                            station  \\\n",
       "start_station_id                                                      \n",
       "67                San Francisco Caltrain Station 2  (Townsend St...   \n",
       "21                 Montgomery St BART Station (Market St at 2nd St)   \n",
       "15                San Francisco Ferry Building (Harry Bridges Pl...   \n",
       "6                                     The Embarcadero at Sansome St   \n",
       "44                Civic Center/UN Plaza BART Station (Market St ...   \n",
       "\n",
       "                           city   out    in category   net  \n",
       "start_station_id                                            \n",
       "67                San Francisco  3544  4857       in  1313  \n",
       "21                San Francisco  2895  3647       in   752  \n",
       "15                San Francisco  2710  3368       in   658  \n",
       "6                 San Francisco  2082  2512       in   430  \n",
       "44                San Francisco  1611  1865       in   254  "
      ]
     },
     "execution_count": 101,
     "metadata": {},
     "output_type": "execute_result"
    }
   ],
   "source": [
    "test.sort_values(by=['net'], ascending=False)[:5] # places bikes flow in"
   ]
  },
  {
   "cell_type": "code",
   "execution_count": 102,
   "metadata": {},
   "outputs": [
    {
     "data": {
      "text/plain": [
       "0"
      ]
     },
     "execution_count": 102,
     "metadata": {},
     "output_type": "execute_result"
    }
   ],
   "source": [
    "test.net.sum()\n",
    "\n",
    "# for the dataset, times of bike out = times of bike in"
   ]
  },
  {
   "cell_type": "markdown",
   "metadata": {},
   "source": [
    "**Question:** how many stations are relatively well-balanced for bike number?"
   ]
  },
  {
   "cell_type": "code",
   "execution_count": 106,
   "metadata": {},
   "outputs": [
    {
     "data": {
      "image/png": "[encoded data removed]",
      "text/plain": [
       "<Figure size 432x288 with 1 Axes>"
      ]
     },
     "metadata": {
      "needs_background": "light"
     },
     "output_type": "display_data"
    }
   ],
   "source": [
    "test.sort_values(by=['net']).net.plot(kind='line');\n",
    "plt.xticks([]);\n",
    "plt.xlabel('bike stations');\n",
    "plt.ylabel('net bike number');\n",
    "plt.title('Plot for net bike number for stations, from shortage to surplus');\n",
    "plt.axhline(100, color='orange');\n",
    "plt.axhline(-100, color='orange');"
   ]
  },
  {
   "cell_type": "markdown",
   "metadata": {},
   "source": [
    "**Observation:** most bike stations' bike number are relatively balanced, without severe shorage or surplus."
   ]
  },
  {
   "cell_type": "code",
   "execution_count": 104,
   "metadata": {},
   "outputs": [
    {
     "name": "stdout",
     "output_type": "stream",
     "text": [
      "88.75 % of stations have monthly bike inflow or outflow less than 100.\n"
     ]
    }
   ],
   "source": [
    "print(round(100*(test[test.net<=100].shape[0] - test[test.net<-100].shape[0])/test.shape[0], 2),'% of stations have monthly bike inflow or outflow less than 100.')"
   ]
  },
  {
   "cell_type": "markdown",
   "metadata": {},
   "source": [
    "### *Talk about some of the relationships you observed in this part of the investigation. Were there features that strengthened each other in terms of looking at your feature(s) of interest?*\n",
    "\n",
    "> 1. in San Jose, users ride bikes with similar duration for weekends and weekdays, while in other cities, users ride for longer time during weekends.\n",
    "2. San Francisco have most active bike riding activities in general.\n",
    "\n",
    "### *Were there any interesting or surprising interactions between features?*\n",
    "\n",
    "> 1. several stations has large monthly net bike inflow or outflow, but total net bike flow for the dataset is zero, which proves data accuracy.\n",
    "2. two stations in Oakland are amazingly top 2 for monthly bike outflow ranking.\n",
    "3. users who put 'others' for gender have apparent longer average riding durations than male and female users."
   ]
  }
 ],
 "metadata": {
  "kernelspec": {
   "display_name": "Python 3",
   "language": "python",
   "name": "python3"
  },
  "language_info": {
   "codemirror_mode": {
    "name": "ipython",
    "version": 3
   },
   "file_extension": ".py",
   "mimetype": "text/x-python",
   "name": "python",
   "nbconvert_exporter": "python",
   "pygments_lexer": "ipython3",
   "version": "3.8.5"
  }
 },
 "nbformat": 4,
 "nbformat_minor": 4
}
